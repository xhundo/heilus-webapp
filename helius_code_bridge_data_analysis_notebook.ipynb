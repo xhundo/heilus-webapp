{
 "cells": [
  {
   "cell_type": "markdown",
   "id": "4e888301",
   "metadata": {},
   "source": [
    "# HELIUS Code Bridge DA Analysis\n",
    "\n",
    "## Introduction\n",
    "\n",
    "For our Code Bridge Jam we chose to analyze the Global Solar Power Tracker from May 2022. This dataset compiles information on global solar farm operational status, MW output, start year, location, and region. We chose this data because it presented an interesting look into the current solar industry and offers a look into what regions may be ripe for future solar farm expansion. \n",
    "\n",
    "The dataset supplied contained two sheets, the first an explanation of terms and the second containing the actual data. I chose only to import that usable data and transcribe the explanations within the body of my notebook. The first step in my analysis was to deal with a variety of data irregularities, once those were resolved I was able to examine how locality intersected with solar farm output and quantity. \n",
    "\n",
    "The most interesting findings I reached was the contrast between the United States total solar farms and China's. While China had over a third more solar farms, the United States's MegaWatt output was equal to that of China, showing the importance of location in solar energy production. The data also showed that many areas one would expect to be prime climates for solar, like Latin America or Africa, have very small amounts of solar infrastructure. \n",
    "\n",
    "My project is structured in an easy to follow manner; it begins with resolving data irregularities, moves to analysis and visualizations, and ends with some csv export code for my project partner. "
   ]
  },
  {
   "cell_type": "markdown",
   "id": "26675898",
   "metadata": {},
   "source": [
    "## Initialization"
   ]
  },
  {
   "cell_type": "code",
   "execution_count": 1,
   "id": "999be6c4",
   "metadata": {},
   "outputs": [],
   "source": [
    "# importing the necessary libraries\n",
    "\n",
    "import pandas as pd\n",
    "import numpy as np \n",
    "import matplotlib.pyplot as plt\n",
    "import seaborn as sns\n",
    "import math"
   ]
  },
  {
   "cell_type": "code",
   "execution_count": 3,
   "id": "bb333c60",
   "metadata": {},
   "outputs": [],
   "source": [
    "df = pd.read_excel('CodeBridge/Global-Solar-Power-Tracker-May-2022.xlsx', sheet_name='Data')"
   ]
  },
  {
   "cell_type": "code",
   "execution_count": 4,
   "id": "187fd0c5",
   "metadata": {
    "scrolled": true
   },
   "outputs": [
    {
     "data": {
      "text/html": [
       "<div>\n",
       "<style scoped>\n",
       "    .dataframe tbody tr th:only-of-type {\n",
       "        vertical-align: middle;\n",
       "    }\n",
       "\n",
       "    .dataframe tbody tr th {\n",
       "        vertical-align: top;\n",
       "    }\n",
       "\n",
       "    .dataframe thead th {\n",
       "        text-align: right;\n",
       "    }\n",
       "</style>\n",
       "<table border=\"1\" class=\"dataframe\">\n",
       "  <thead>\n",
       "    <tr style=\"text-align: right;\">\n",
       "      <th></th>\n",
       "      <th>Country</th>\n",
       "      <th>Project Name</th>\n",
       "      <th>Phase Name</th>\n",
       "      <th>Project Name in Local Language / Script</th>\n",
       "      <th>Other Name(s)</th>\n",
       "      <th>Capacity (MW)</th>\n",
       "      <th>Capacity Rating</th>\n",
       "      <th>Status</th>\n",
       "      <th>Start year</th>\n",
       "      <th>Retired year</th>\n",
       "      <th>...</th>\n",
       "      <th>City</th>\n",
       "      <th>Local area (taluk, county)</th>\n",
       "      <th>Major area (prefecture, district)</th>\n",
       "      <th>State/Province</th>\n",
       "      <th>Region</th>\n",
       "      <th>GEM location ID</th>\n",
       "      <th>GEM phase ID</th>\n",
       "      <th>Other IDs (location)</th>\n",
       "      <th>Other IDs (unit/phase)</th>\n",
       "      <th>Wiki URL</th>\n",
       "    </tr>\n",
       "  </thead>\n",
       "  <tbody>\n",
       "    <tr>\n",
       "      <th>0</th>\n",
       "      <td>Algeria</td>\n",
       "      <td>Adrar Solar Plant</td>\n",
       "      <td>NaN</td>\n",
       "      <td>NaN</td>\n",
       "      <td>NaN</td>\n",
       "      <td>20</td>\n",
       "      <td>MWp/dc</td>\n",
       "      <td>operating</td>\n",
       "      <td>2015.0</td>\n",
       "      <td>NaN</td>\n",
       "      <td>...</td>\n",
       "      <td>Adrar</td>\n",
       "      <td>Adrar District</td>\n",
       "      <td>NaN</td>\n",
       "      <td>Adrar</td>\n",
       "      <td>Africa</td>\n",
       "      <td>L800008</td>\n",
       "      <td>G800008</td>\n",
       "      <td>Wks0068905</td>\n",
       "      <td>NaN</td>\n",
       "      <td>https://gem.wiki/Adrar_Solar_Plant</td>\n",
       "    </tr>\n",
       "    <tr>\n",
       "      <th>1</th>\n",
       "      <td>Algeria</td>\n",
       "      <td>Ain Azel solar farm</td>\n",
       "      <td>NaN</td>\n",
       "      <td>محطة توليد الكهرباء بعين زادة</td>\n",
       "      <td>NaN</td>\n",
       "      <td>20</td>\n",
       "      <td>unknown</td>\n",
       "      <td>operating</td>\n",
       "      <td>NaN</td>\n",
       "      <td>NaN</td>\n",
       "      <td>...</td>\n",
       "      <td>Ain Azel</td>\n",
       "      <td>Ain Arnat</td>\n",
       "      <td>NaN</td>\n",
       "      <td>Sétif</td>\n",
       "      <td>Africa</td>\n",
       "      <td>L800010</td>\n",
       "      <td>G800010</td>\n",
       "      <td>Wks0065285</td>\n",
       "      <td>NaN</td>\n",
       "      <td>https://gem.wiki/Ain_Azel_solar_farm</td>\n",
       "    </tr>\n",
       "    <tr>\n",
       "      <th>2</th>\n",
       "      <td>Algeria</td>\n",
       "      <td>Ain El Ibel Solar</td>\n",
       "      <td>PV 1</td>\n",
       "      <td>محطة عين الابل للطاقة الشمسية ١</td>\n",
       "      <td>Ain Albel 1 solar plant</td>\n",
       "      <td>20</td>\n",
       "      <td>unknown</td>\n",
       "      <td>operating</td>\n",
       "      <td>2016.0</td>\n",
       "      <td>NaN</td>\n",
       "      <td>...</td>\n",
       "      <td>Ain El Ibel</td>\n",
       "      <td>Aïn El Ibel District</td>\n",
       "      <td>NaN</td>\n",
       "      <td>Djelfa</td>\n",
       "      <td>Africa</td>\n",
       "      <td>L800012</td>\n",
       "      <td>G800012</td>\n",
       "      <td>Wks0068916</td>\n",
       "      <td>NaN</td>\n",
       "      <td>https://gem.wiki/Ain_El_Ibel_Solar</td>\n",
       "    </tr>\n",
       "    <tr>\n",
       "      <th>3</th>\n",
       "      <td>Algeria</td>\n",
       "      <td>Ain El Ibel Solar</td>\n",
       "      <td>PV 2</td>\n",
       "      <td>محطة عين الابل للطاقة الشمسية ٢</td>\n",
       "      <td>Ain Albel 2 solar plant</td>\n",
       "      <td>33</td>\n",
       "      <td>unknown</td>\n",
       "      <td>operating</td>\n",
       "      <td>2017.0</td>\n",
       "      <td>NaN</td>\n",
       "      <td>...</td>\n",
       "      <td>Ain El Ibel</td>\n",
       "      <td>Aïn El Ibel District</td>\n",
       "      <td>NaN</td>\n",
       "      <td>Djelfa</td>\n",
       "      <td>Africa</td>\n",
       "      <td>L800012</td>\n",
       "      <td>G800013</td>\n",
       "      <td>Wks0073479</td>\n",
       "      <td>NaN</td>\n",
       "      <td>https://gem.wiki/Ain_El_Ibel_Solar</td>\n",
       "    </tr>\n",
       "    <tr>\n",
       "      <th>4</th>\n",
       "      <td>Algeria</td>\n",
       "      <td>Ain El Mehl Solar</td>\n",
       "      <td>NaN</td>\n",
       "      <td>محطة عين الملح للطاقة الشمسية</td>\n",
       "      <td>Ain El Melh Solar</td>\n",
       "      <td>20</td>\n",
       "      <td>unknown</td>\n",
       "      <td>operating</td>\n",
       "      <td>2017.0</td>\n",
       "      <td>NaN</td>\n",
       "      <td>...</td>\n",
       "      <td>Ain El Mehl</td>\n",
       "      <td>Aïn El Melh District</td>\n",
       "      <td>NaN</td>\n",
       "      <td>M'Sila</td>\n",
       "      <td>Africa</td>\n",
       "      <td>L800013</td>\n",
       "      <td>G800014</td>\n",
       "      <td>Wks0068915</td>\n",
       "      <td>NaN</td>\n",
       "      <td>https://gem.wiki/Ain_El_Mehl_Solar</td>\n",
       "    </tr>\n",
       "  </tbody>\n",
       "</table>\n",
       "<p>5 rows × 27 columns</p>\n",
       "</div>"
      ],
      "text/plain": [
       "   Country         Project Name Phase Name  \\\n",
       "0  Algeria    Adrar Solar Plant        NaN   \n",
       "1  Algeria  Ain Azel solar farm        NaN   \n",
       "2  Algeria    Ain El Ibel Solar       PV 1   \n",
       "3  Algeria    Ain El Ibel Solar       PV 2   \n",
       "4  Algeria    Ain El Mehl Solar        NaN   \n",
       "\n",
       "  Project Name in Local Language / Script            Other Name(s)  \\\n",
       "0                                     NaN                      NaN   \n",
       "1           محطة توليد الكهرباء بعين زادة                      NaN   \n",
       "2         محطة عين الابل للطاقة الشمسية ١  Ain Albel 1 solar plant   \n",
       "3         محطة عين الابل للطاقة الشمسية ٢  Ain Albel 2 solar plant   \n",
       "4           محطة عين الملح للطاقة الشمسية        Ain El Melh Solar   \n",
       "\n",
       "   Capacity (MW) Capacity Rating     Status  Start year  Retired year  ...  \\\n",
       "0             20          MWp/dc  operating      2015.0           NaN  ...   \n",
       "1             20         unknown  operating         NaN           NaN  ...   \n",
       "2             20         unknown  operating      2016.0           NaN  ...   \n",
       "3             33         unknown  operating      2017.0           NaN  ...   \n",
       "4             20         unknown  operating      2017.0           NaN  ...   \n",
       "\n",
       "          City Local area (taluk, county) Major area (prefecture, district)  \\\n",
       "0        Adrar             Adrar District                               NaN   \n",
       "1     Ain Azel                  Ain Arnat                               NaN   \n",
       "2  Ain El Ibel       Aïn El Ibel District                               NaN   \n",
       "3  Ain El Ibel       Aïn El Ibel District                               NaN   \n",
       "4  Ain El Mehl       Aïn El Melh District                               NaN   \n",
       "\n",
       "  State/Province  Region  GEM location ID GEM phase ID Other IDs (location)  \\\n",
       "0          Adrar  Africa          L800008      G800008           Wks0068905   \n",
       "1          Sétif  Africa          L800010      G800010           Wks0065285   \n",
       "2         Djelfa  Africa          L800012      G800012           Wks0068916   \n",
       "3         Djelfa  Africa          L800012      G800013           Wks0073479   \n",
       "4         M'Sila  Africa          L800013      G800014           Wks0068915   \n",
       "\n",
       "  Other IDs (unit/phase)                              Wiki URL  \n",
       "0                    NaN    https://gem.wiki/Adrar_Solar_Plant  \n",
       "1                    NaN  https://gem.wiki/Ain_Azel_solar_farm  \n",
       "2                    NaN    https://gem.wiki/Ain_El_Ibel_Solar  \n",
       "3                    NaN    https://gem.wiki/Ain_El_Ibel_Solar  \n",
       "4                    NaN    https://gem.wiki/Ain_El_Mehl_Solar  \n",
       "\n",
       "[5 rows x 27 columns]"
      ]
     },
     "execution_count": 4,
     "metadata": {},
     "output_type": "execute_result"
    }
   ],
   "source": [
    "# lets get a look at this data\n",
    "\n",
    "df.head()"
   ]
  },
  {
   "cell_type": "code",
   "execution_count": 5,
   "id": "3aa7e2ac",
   "metadata": {
    "scrolled": true
   },
   "outputs": [
    {
     "name": "stdout",
     "output_type": "stream",
     "text": [
      "<class 'pandas.core.frame.DataFrame'>\n",
      "RangeIndex: 9331 entries, 0 to 9330\n",
      "Data columns (total 27 columns):\n",
      " #   Column                                    Non-Null Count  Dtype  \n",
      "---  ------                                    --------------  -----  \n",
      " 0   Country                                   9331 non-null   object \n",
      " 1   Project Name                              9331 non-null   object \n",
      " 2   Phase Name                                3981 non-null   object \n",
      " 3   Project Name in Local Language / Script   5014 non-null   object \n",
      " 4   Other Name(s)                             1600 non-null   object \n",
      " 5   Capacity (MW)                             9331 non-null   int64  \n",
      " 6   Capacity Rating                           9331 non-null   object \n",
      " 7   Status                                    9331 non-null   object \n",
      " 8   Start year                                6326 non-null   float64\n",
      " 9   Retired year                              5 non-null      float64\n",
      " 10  Operator                                  6034 non-null   object \n",
      " 11  Operator Name in Local Language / Script  2814 non-null   object \n",
      " 12  Owner                                     8491 non-null   object \n",
      " 13  Owner Name in Local Language / Script     3463 non-null   object \n",
      " 14  Latitude                                  9331 non-null   float64\n",
      " 15  Longitude                                 9331 non-null   float64\n",
      " 16  Location accuracy                         9331 non-null   object \n",
      " 17  City                                      4909 non-null   object \n",
      " 18  Local area (taluk, county)                6124 non-null   object \n",
      " 19  Major area (prefecture, district)         5411 non-null   object \n",
      " 20  State/Province                            8684 non-null   object \n",
      " 21  Region                                    9331 non-null   object \n",
      " 22  GEM location ID                           9331 non-null   object \n",
      " 23  GEM phase ID                              9331 non-null   object \n",
      " 24  Other IDs (location)                      2145 non-null   object \n",
      " 25  Other IDs (unit/phase)                    756 non-null    object \n",
      " 26  Wiki URL                                  9331 non-null   object \n",
      "dtypes: float64(4), int64(1), object(22)\n",
      "memory usage: 1.9+ MB\n"
     ]
    }
   ],
   "source": [
    "df.info()"
   ]
  },
  {
   "cell_type": "markdown",
   "id": "30995da9",
   "metadata": {},
   "source": [
    "### Initial Data Notes\n",
    "\n",
    "Right off the bat it is clear that the data is in rough shape. This will require a lot of data prep steps to get my DF in usable shape for effective EDA. \n",
    "\n",
    "Steps Include:\n",
    "- convert all column titles to snake_case\n",
    "- drop any unnecessary columns (project name in local language, other IDs, wiki_url)\n",
    "- change column datatypes to correct types \n",
    "- fill or drop null values as applicable\n",
    "\n",
    "The dataset includes the following fields:\n",
    "\n",
    "- `Country`: Country the project is located in (Unabbreviated)\n",
    "- `Project Name`: Commonly used name\n",
    "- `Phase name`: Common name of the project phase.\n",
    "- `Project Name in Local Language / Script`: Commonly used name in the locally used script\n",
    "- `Other Name(s)`: Alternative names, including the name in local script\n",
    "- `Capacity`: Nameplate capacity, or best available data, of the phase in megawatts rounded to whole number\n",
    "- `Capacity Rating`: The reported capacity rating, unknown selected if not provided\n",
    "- `Status`: see rows 12-19 above\n",
    "- `Start year`: Year the project is or is expected to be commissioned\n",
    "- `Retired year`: Year the plant is taken offline\n",
    "- `Operator`: The company that operates the project\n",
    "- `Operator Name in Local Language / Script`: Company name that operates the project in the locally used script\n",
    "- `Owner`: The company that directly owns the plant; When owned by a special purpose vehicle, the next level of ownership is provided\n",
    "- `Owner Name in Local Language / Script`: Company name that directly owns the project in the locally used script\n",
    "- `Latitude`: decimal degrees\tLatitude, assumed WGS84 (google maps), of the project (not by unit)\n",
    "- `Longitude`: decimal degrees\tLongitude, assumed WGS84 (google maps), of the project (not by unit)\n",
    "- `Location accuracy`: approximate, exact\tLocation is Approximate based on using nearest city or other information in data sources, or Location is Exact when explicitly provided in data source\n",
    "- `City`: City, town, village, or township (China) where project is located\n",
    "- `Local Area`: County, taluk, or district (China) where project is located \n",
    "- `Major Area`: Prefecture, district, or municipality (China) where project is located\n",
    "- `State/Province`: Subnational unit where project is located\n",
    "- `Region`: Region location based on IRENA definition\n",
    "- `GEM Location ID`: GEM generated ID unique for each project\n",
    "- `GEM Phase ID`: GEM generated ID unique for each phase\n",
    "- `Wiki URL`: URL of existing or planned GEM.wiki page"
   ]
  },
  {
   "cell_type": "markdown",
   "id": "d4e3b6f8",
   "metadata": {},
   "source": [
    "## Preparing the Data & Preliminary EDA"
   ]
  },
  {
   "cell_type": "code",
   "execution_count": 6,
   "id": "9a460e80",
   "metadata": {
    "scrolled": true
   },
   "outputs": [],
   "source": [
    "# dropping irrelevent columns\n",
    "\n",
    "df.drop(\n",
    "    ['Project Name in Local Language / Script', 'Other Name(s)', 'Operator Name in Local Language / Script', 'Owner Name in Local Language / Script', 'Other IDs (location)', 'Other IDs (unit/phase)', 'Wiki URL'],\n",
    "    axis = 1, \n",
    "    inplace = True\n",
    ")"
   ]
  },
  {
   "cell_type": "code",
   "execution_count": 7,
   "id": "b940c0ca",
   "metadata": {},
   "outputs": [],
   "source": [
    "# changing column names to snake_case\n",
    "\n",
    "df.columns = [\n",
    "    'country', 'project_name', 'phase_name', 'capacity_mw', 'capacity_rating', 'status', 'start_year', 'retired_year', 'operator', 'owner', 'latitude', 'longitude', 'location_accuracy', 'city', 'local_area', 'major_area', 'state_or_province', 'region', 'gem_loc_id', 'gem_phase_id' \n",
    "]"
   ]
  },
  {
   "cell_type": "code",
   "execution_count": 8,
   "id": "1c2bb7c0",
   "metadata": {
    "scrolled": false
   },
   "outputs": [
    {
     "name": "stdout",
     "output_type": "stream",
     "text": [
      "<class 'pandas.core.frame.DataFrame'>\n",
      "RangeIndex: 9331 entries, 0 to 9330\n",
      "Data columns (total 20 columns):\n",
      " #   Column             Non-Null Count  Dtype  \n",
      "---  ------             --------------  -----  \n",
      " 0   country            9331 non-null   object \n",
      " 1   project_name       9331 non-null   object \n",
      " 2   phase_name         3981 non-null   object \n",
      " 3   capacity_mw        9331 non-null   int64  \n",
      " 4   capacity_rating    9331 non-null   object \n",
      " 5   status             9331 non-null   object \n",
      " 6   start_year         6326 non-null   float64\n",
      " 7   retired_year       5 non-null      float64\n",
      " 8   operator           6034 non-null   object \n",
      " 9   owner              8491 non-null   object \n",
      " 10  latitude           9331 non-null   float64\n",
      " 11  longitude          9331 non-null   float64\n",
      " 12  location_accuracy  9331 non-null   object \n",
      " 13  city               4909 non-null   object \n",
      " 14  local_area         6124 non-null   object \n",
      " 15  major_area         5411 non-null   object \n",
      " 16  state_or_province  8684 non-null   object \n",
      " 17  region             9331 non-null   object \n",
      " 18  gem_loc_id         9331 non-null   object \n",
      " 19  gem_phase_id       9331 non-null   object \n",
      "dtypes: float64(4), int64(1), object(15)\n",
      "memory usage: 1.4+ MB\n"
     ]
    }
   ],
   "source": [
    "df.info()"
   ]
  },
  {
   "cell_type": "code",
   "execution_count": 9,
   "id": "53657abc",
   "metadata": {},
   "outputs": [
    {
     "data": {
      "text/html": [
       "<div>\n",
       "<style scoped>\n",
       "    .dataframe tbody tr th:only-of-type {\n",
       "        vertical-align: middle;\n",
       "    }\n",
       "\n",
       "    .dataframe tbody tr th {\n",
       "        vertical-align: top;\n",
       "    }\n",
       "\n",
       "    .dataframe thead th {\n",
       "        text-align: right;\n",
       "    }\n",
       "</style>\n",
       "<table border=\"1\" class=\"dataframe\">\n",
       "  <thead>\n",
       "    <tr style=\"text-align: right;\">\n",
       "      <th></th>\n",
       "      <th>country</th>\n",
       "      <th>project_name</th>\n",
       "      <th>phase_name</th>\n",
       "      <th>capacity_mw</th>\n",
       "      <th>capacity_rating</th>\n",
       "      <th>status</th>\n",
       "      <th>start_year</th>\n",
       "      <th>retired_year</th>\n",
       "      <th>operator</th>\n",
       "      <th>owner</th>\n",
       "      <th>latitude</th>\n",
       "      <th>longitude</th>\n",
       "      <th>location_accuracy</th>\n",
       "      <th>city</th>\n",
       "      <th>local_area</th>\n",
       "      <th>major_area</th>\n",
       "      <th>state_or_province</th>\n",
       "      <th>region</th>\n",
       "      <th>gem_loc_id</th>\n",
       "      <th>gem_phase_id</th>\n",
       "    </tr>\n",
       "  </thead>\n",
       "  <tbody>\n",
       "    <tr>\n",
       "      <th>0</th>\n",
       "      <td>Algeria</td>\n",
       "      <td>Adrar Solar Plant</td>\n",
       "      <td>NaN</td>\n",
       "      <td>20</td>\n",
       "      <td>MWp/dc</td>\n",
       "      <td>operating</td>\n",
       "      <td>2015.0</td>\n",
       "      <td>NaN</td>\n",
       "      <td>Shariket Kahraba wa Taket Moutadjadida (SKTM)</td>\n",
       "      <td>Shariket Kahraba wa Taket Moutadjadida (SKTM)</td>\n",
       "      <td>27.9077</td>\n",
       "      <td>-0.3174</td>\n",
       "      <td>exact</td>\n",
       "      <td>Adrar</td>\n",
       "      <td>Adrar District</td>\n",
       "      <td>NaN</td>\n",
       "      <td>Adrar</td>\n",
       "      <td>Africa</td>\n",
       "      <td>L800008</td>\n",
       "      <td>G800008</td>\n",
       "    </tr>\n",
       "    <tr>\n",
       "      <th>1</th>\n",
       "      <td>Algeria</td>\n",
       "      <td>Ain Azel solar farm</td>\n",
       "      <td>NaN</td>\n",
       "      <td>20</td>\n",
       "      <td>unknown</td>\n",
       "      <td>operating</td>\n",
       "      <td>NaN</td>\n",
       "      <td>NaN</td>\n",
       "      <td>NaN</td>\n",
       "      <td>Sonelgaz</td>\n",
       "      <td>36.1611</td>\n",
       "      <td>5.3321</td>\n",
       "      <td>approximate</td>\n",
       "      <td>Ain Azel</td>\n",
       "      <td>Ain Arnat</td>\n",
       "      <td>NaN</td>\n",
       "      <td>Sétif</td>\n",
       "      <td>Africa</td>\n",
       "      <td>L800010</td>\n",
       "      <td>G800010</td>\n",
       "    </tr>\n",
       "    <tr>\n",
       "      <th>2</th>\n",
       "      <td>Algeria</td>\n",
       "      <td>Ain El Ibel Solar</td>\n",
       "      <td>PV 1</td>\n",
       "      <td>20</td>\n",
       "      <td>unknown</td>\n",
       "      <td>operating</td>\n",
       "      <td>2016.0</td>\n",
       "      <td>NaN</td>\n",
       "      <td>Shariket Kahraba wa Taket Moutadjadida (SKTM)</td>\n",
       "      <td>Shariket Kahraba wa Taket Moutadjadida (SKTM)</td>\n",
       "      <td>34.3447</td>\n",
       "      <td>3.1636</td>\n",
       "      <td>exact</td>\n",
       "      <td>Ain El Ibel</td>\n",
       "      <td>Aïn El Ibel District</td>\n",
       "      <td>NaN</td>\n",
       "      <td>Djelfa</td>\n",
       "      <td>Africa</td>\n",
       "      <td>L800012</td>\n",
       "      <td>G800012</td>\n",
       "    </tr>\n",
       "    <tr>\n",
       "      <th>3</th>\n",
       "      <td>Algeria</td>\n",
       "      <td>Ain El Ibel Solar</td>\n",
       "      <td>PV 2</td>\n",
       "      <td>33</td>\n",
       "      <td>unknown</td>\n",
       "      <td>operating</td>\n",
       "      <td>2017.0</td>\n",
       "      <td>NaN</td>\n",
       "      <td>Shariket Kahraba wa Taket Moutadjadida (SKTM)</td>\n",
       "      <td>Shariket Kahraba wa Taket Moutadjadida (SKTM)</td>\n",
       "      <td>34.3433</td>\n",
       "      <td>3.1696</td>\n",
       "      <td>exact</td>\n",
       "      <td>Ain El Ibel</td>\n",
       "      <td>Aïn El Ibel District</td>\n",
       "      <td>NaN</td>\n",
       "      <td>Djelfa</td>\n",
       "      <td>Africa</td>\n",
       "      <td>L800012</td>\n",
       "      <td>G800013</td>\n",
       "    </tr>\n",
       "    <tr>\n",
       "      <th>4</th>\n",
       "      <td>Algeria</td>\n",
       "      <td>Ain El Mehl Solar</td>\n",
       "      <td>NaN</td>\n",
       "      <td>20</td>\n",
       "      <td>unknown</td>\n",
       "      <td>operating</td>\n",
       "      <td>2017.0</td>\n",
       "      <td>NaN</td>\n",
       "      <td>Shariket Kahraba wa Taket Moutadjadida (SKTM)</td>\n",
       "      <td>Shariket Kahraba wa Taket Moutadjadida (SKTM)</td>\n",
       "      <td>34.8597</td>\n",
       "      <td>4.2026</td>\n",
       "      <td>exact</td>\n",
       "      <td>Ain El Mehl</td>\n",
       "      <td>Aïn El Melh District</td>\n",
       "      <td>NaN</td>\n",
       "      <td>M'Sila</td>\n",
       "      <td>Africa</td>\n",
       "      <td>L800013</td>\n",
       "      <td>G800014</td>\n",
       "    </tr>\n",
       "  </tbody>\n",
       "</table>\n",
       "</div>"
      ],
      "text/plain": [
       "   country         project_name phase_name  capacity_mw capacity_rating  \\\n",
       "0  Algeria    Adrar Solar Plant        NaN           20          MWp/dc   \n",
       "1  Algeria  Ain Azel solar farm        NaN           20         unknown   \n",
       "2  Algeria    Ain El Ibel Solar       PV 1           20         unknown   \n",
       "3  Algeria    Ain El Ibel Solar       PV 2           33         unknown   \n",
       "4  Algeria    Ain El Mehl Solar        NaN           20         unknown   \n",
       "\n",
       "      status  start_year  retired_year  \\\n",
       "0  operating      2015.0           NaN   \n",
       "1  operating         NaN           NaN   \n",
       "2  operating      2016.0           NaN   \n",
       "3  operating      2017.0           NaN   \n",
       "4  operating      2017.0           NaN   \n",
       "\n",
       "                                        operator  \\\n",
       "0  Shariket Kahraba wa Taket Moutadjadida (SKTM)   \n",
       "1                                            NaN   \n",
       "2  Shariket Kahraba wa Taket Moutadjadida (SKTM)   \n",
       "3  Shariket Kahraba wa Taket Moutadjadida (SKTM)   \n",
       "4  Shariket Kahraba wa Taket Moutadjadida (SKTM)   \n",
       "\n",
       "                                           owner  latitude  longitude  \\\n",
       "0  Shariket Kahraba wa Taket Moutadjadida (SKTM)   27.9077    -0.3174   \n",
       "1                                       Sonelgaz   36.1611     5.3321   \n",
       "2  Shariket Kahraba wa Taket Moutadjadida (SKTM)   34.3447     3.1636   \n",
       "3  Shariket Kahraba wa Taket Moutadjadida (SKTM)   34.3433     3.1696   \n",
       "4  Shariket Kahraba wa Taket Moutadjadida (SKTM)   34.8597     4.2026   \n",
       "\n",
       "  location_accuracy         city            local_area major_area  \\\n",
       "0             exact        Adrar        Adrar District        NaN   \n",
       "1       approximate     Ain Azel             Ain Arnat        NaN   \n",
       "2             exact  Ain El Ibel  Aïn El Ibel District        NaN   \n",
       "3             exact  Ain El Ibel  Aïn El Ibel District        NaN   \n",
       "4             exact  Ain El Mehl  Aïn El Melh District        NaN   \n",
       "\n",
       "  state_or_province  region gem_loc_id gem_phase_id  \n",
       "0             Adrar  Africa    L800008      G800008  \n",
       "1             Sétif  Africa    L800010      G800010  \n",
       "2            Djelfa  Africa    L800012      G800012  \n",
       "3            Djelfa  Africa    L800012      G800013  \n",
       "4            M'Sila  Africa    L800013      G800014  "
      ]
     },
     "execution_count": 9,
     "metadata": {},
     "output_type": "execute_result"
    }
   ],
   "source": [
    "df.head(5)"
   ]
  },
  {
   "cell_type": "code",
   "execution_count": 10,
   "id": "e6dab69e",
   "metadata": {
    "scrolled": false
   },
   "outputs": [
    {
     "data": {
      "text/plain": [
       "operating       5190\n",
       "development     2317\n",
       "announced        654\n",
       "construction     580\n",
       "cancelled        434\n",
       "shelved          155\n",
       "retired            1\n",
       "Name: status, dtype: int64"
      ]
     },
     "execution_count": 10,
     "metadata": {},
     "output_type": "execute_result"
    }
   ],
   "source": [
    "df['status'].value_counts()"
   ]
  },
  {
   "cell_type": "code",
   "execution_count": 11,
   "id": "ca9dad0e",
   "metadata": {
    "scrolled": false
   },
   "outputs": [
    {
     "data": {
      "text/plain": [
       "Asia                                 4100\n",
       "North America                        1766\n",
       "Europe                               1433\n",
       "South America                        1034\n",
       "Africa                                436\n",
       "Oceania                               279\n",
       "Middle East                           143\n",
       "Central America and the Caribbean      77\n",
       "Eurasia                                63\n",
       "Name: region, dtype: int64"
      ]
     },
     "execution_count": 11,
     "metadata": {},
     "output_type": "execute_result"
    }
   ],
   "source": [
    "df['region'].value_counts()"
   ]
  },
  {
   "cell_type": "code",
   "execution_count": 12,
   "id": "2c32f138",
   "metadata": {
    "scrolled": true
   },
   "outputs": [
    {
     "data": {
      "text/plain": [
       "approximate    5452\n",
       "exact          3879\n",
       "Name: location_accuracy, dtype: int64"
      ]
     },
     "execution_count": 12,
     "metadata": {},
     "output_type": "execute_result"
    }
   ],
   "source": [
    "df['location_accuracy'].value_counts()"
   ]
  },
  {
   "cell_type": "markdown",
   "id": "d5161d17",
   "metadata": {},
   "source": [
    "After fixing the column names I will change the datatypes of `status`, `region`, and `location accuracy` to the `category` type to reduce the size of the dataframe"
   ]
  },
  {
   "cell_type": "code",
   "execution_count": 13,
   "id": "74c4936b",
   "metadata": {},
   "outputs": [],
   "source": [
    "df['status'] = df['status'].astype('category')"
   ]
  },
  {
   "cell_type": "code",
   "execution_count": 14,
   "id": "704ee426",
   "metadata": {},
   "outputs": [],
   "source": [
    "df['region'] = df['region'].astype('category')"
   ]
  },
  {
   "cell_type": "code",
   "execution_count": 15,
   "id": "a330527b",
   "metadata": {},
   "outputs": [],
   "source": [
    "df['location_accuracy'] = df['location_accuracy'].astype('category')"
   ]
  },
  {
   "cell_type": "code",
   "execution_count": 16,
   "id": "39e127af",
   "metadata": {
    "scrolled": false
   },
   "outputs": [
    {
     "name": "stdout",
     "output_type": "stream",
     "text": [
      "<class 'pandas.core.frame.DataFrame'>\n",
      "RangeIndex: 9331 entries, 0 to 9330\n",
      "Data columns (total 20 columns):\n",
      " #   Column             Non-Null Count  Dtype   \n",
      "---  ------             --------------  -----   \n",
      " 0   country            9331 non-null   object  \n",
      " 1   project_name       9331 non-null   object  \n",
      " 2   phase_name         3981 non-null   object  \n",
      " 3   capacity_mw        9331 non-null   int64   \n",
      " 4   capacity_rating    9331 non-null   object  \n",
      " 5   status             9331 non-null   category\n",
      " 6   start_year         6326 non-null   float64 \n",
      " 7   retired_year       5 non-null      float64 \n",
      " 8   operator           6034 non-null   object  \n",
      " 9   owner              8491 non-null   object  \n",
      " 10  latitude           9331 non-null   float64 \n",
      " 11  longitude          9331 non-null   float64 \n",
      " 12  location_accuracy  9331 non-null   category\n",
      " 13  city               4909 non-null   object  \n",
      " 14  local_area         6124 non-null   object  \n",
      " 15  major_area         5411 non-null   object  \n",
      " 16  state_or_province  8684 non-null   object  \n",
      " 17  region             9331 non-null   category\n",
      " 18  gem_loc_id         9331 non-null   object  \n",
      " 19  gem_phase_id       9331 non-null   object  \n",
      "dtypes: category(3), float64(4), int64(1), object(12)\n",
      "memory usage: 1.2+ MB\n"
     ]
    }
   ],
   "source": [
    "df.info()"
   ]
  },
  {
   "cell_type": "markdown",
   "id": "e3f1b76c",
   "metadata": {},
   "source": [
    "#### Notes\n",
    "\n",
    "Now that the datatypes that I can easily fix are finished I will need to fill or remove the null values, of which there are a great deal. This will require me to assess whether the missing data will can be filled based on available information or if it will remain a mystery, and if so how much that missing data will impact my analysis. "
   ]
  },
  {
   "cell_type": "code",
   "execution_count": 17,
   "id": "ea498d41",
   "metadata": {},
   "outputs": [
    {
     "data": {
      "text/plain": [
       "1                 1886\n",
       "2                  867\n",
       "3                  311\n",
       "4                  147\n",
       "5                  100\n",
       "                  ... \n",
       "Calamocha            1\n",
       "Escucha              1\n",
       "Sirius               1\n",
       "Castiblanco          1\n",
       "Young Facility       1\n",
       "Name: phase_name, Length: 251, dtype: int64"
      ]
     },
     "execution_count": 17,
     "metadata": {},
     "output_type": "execute_result"
    }
   ],
   "source": [
    "df['phase_name'].value_counts()"
   ]
  },
  {
   "cell_type": "code",
   "execution_count": 18,
   "id": "eeaf99c0",
   "metadata": {
    "scrolled": false
   },
   "outputs": [
    {
     "data": {
      "text/plain": [
       "2016.0    901\n",
       "2017.0    826\n",
       "2022.0    571\n",
       "2015.0    534\n",
       "2018.0    523\n",
       "2019.0    520\n",
       "2021.0    487\n",
       "2020.0    455\n",
       "2014.0    401\n",
       "2023.0    314\n",
       "2013.0    295\n",
       "2012.0    137\n",
       "2024.0    134\n",
       "2011.0     72\n",
       "2025.0     52\n",
       "2026.0     30\n",
       "2010.0     26\n",
       "2027.0     13\n",
       "2008.0     13\n",
       "2009.0     12\n",
       "2007.0      4\n",
       "2028.0      2\n",
       "2030.0      2\n",
       "2029.0      1\n",
       "2038.0      1\n",
       "Name: start_year, dtype: int64"
      ]
     },
     "execution_count": 18,
     "metadata": {},
     "output_type": "execute_result"
    }
   ],
   "source": [
    "df['start_year'].value_counts()"
   ]
  },
  {
   "cell_type": "code",
   "execution_count": 19,
   "id": "6ff110d9",
   "metadata": {},
   "outputs": [
    {
     "data": {
      "text/html": [
       "<div>\n",
       "<style scoped>\n",
       "    .dataframe tbody tr th:only-of-type {\n",
       "        vertical-align: middle;\n",
       "    }\n",
       "\n",
       "    .dataframe tbody tr th {\n",
       "        vertical-align: top;\n",
       "    }\n",
       "\n",
       "    .dataframe thead th {\n",
       "        text-align: right;\n",
       "    }\n",
       "</style>\n",
       "<table border=\"1\" class=\"dataframe\">\n",
       "  <thead>\n",
       "    <tr style=\"text-align: right;\">\n",
       "      <th></th>\n",
       "      <th></th>\n",
       "      <th>start_year</th>\n",
       "    </tr>\n",
       "    <tr>\n",
       "      <th>country</th>\n",
       "      <th>status</th>\n",
       "      <th></th>\n",
       "    </tr>\n",
       "  </thead>\n",
       "  <tbody>\n",
       "    <tr>\n",
       "      <th rowspan=\"2\" valign=\"top\">Afghanistan</th>\n",
       "      <th>announced</th>\n",
       "      <td>2025.000000</td>\n",
       "    </tr>\n",
       "    <tr>\n",
       "      <th>development</th>\n",
       "      <td>2022.500000</td>\n",
       "    </tr>\n",
       "    <tr>\n",
       "      <th>Albania</th>\n",
       "      <th>development</th>\n",
       "      <td>2022.500000</td>\n",
       "    </tr>\n",
       "    <tr>\n",
       "      <th rowspan=\"2\" valign=\"top\">Algeria</th>\n",
       "      <th>announced</th>\n",
       "      <td>2023.000000</td>\n",
       "    </tr>\n",
       "    <tr>\n",
       "      <th>operating</th>\n",
       "      <td>2016.222222</td>\n",
       "    </tr>\n",
       "    <tr>\n",
       "      <th>...</th>\n",
       "      <th>...</th>\n",
       "      <td>...</td>\n",
       "    </tr>\n",
       "    <tr>\n",
       "      <th rowspan=\"2\" valign=\"top\">Vietnam</th>\n",
       "      <th>development</th>\n",
       "      <td>2022.900000</td>\n",
       "    </tr>\n",
       "    <tr>\n",
       "      <th>operating</th>\n",
       "      <td>2019.420635</td>\n",
       "    </tr>\n",
       "    <tr>\n",
       "      <th>Western Sahara</th>\n",
       "      <th>operating</th>\n",
       "      <td>2018.000000</td>\n",
       "    </tr>\n",
       "    <tr>\n",
       "      <th>Zambia</th>\n",
       "      <th>operating</th>\n",
       "      <td>2019.000000</td>\n",
       "    </tr>\n",
       "    <tr>\n",
       "      <th>Zimbabwe</th>\n",
       "      <th>operating</th>\n",
       "      <td>2019.000000</td>\n",
       "    </tr>\n",
       "  </tbody>\n",
       "</table>\n",
       "<p>240 rows × 1 columns</p>\n",
       "</div>"
      ],
      "text/plain": [
       "                             start_year\n",
       "country        status                  \n",
       "Afghanistan    announced    2025.000000\n",
       "               development  2022.500000\n",
       "Albania        development  2022.500000\n",
       "Algeria        announced    2023.000000\n",
       "               operating    2016.222222\n",
       "...                                 ...\n",
       "Vietnam        development  2022.900000\n",
       "               operating    2019.420635\n",
       "Western Sahara operating    2018.000000\n",
       "Zambia         operating    2019.000000\n",
       "Zimbabwe       operating    2019.000000\n",
       "\n",
       "[240 rows x 1 columns]"
      ]
     },
     "execution_count": 19,
     "metadata": {},
     "output_type": "execute_result"
    }
   ],
   "source": [
    "mean_start_year = df.pivot_table(\n",
    "    index = ['country', 'status'],\n",
    "    values = 'start_year'\n",
    ")\n",
    "\n",
    "mean_start_year"
   ]
  },
  {
   "cell_type": "code",
   "execution_count": 20,
   "id": "51b33b9b",
   "metadata": {
    "scrolled": false
   },
   "outputs": [
    {
     "data": {
      "text/html": [
       "<div>\n",
       "<style scoped>\n",
       "    .dataframe tbody tr th:only-of-type {\n",
       "        vertical-align: middle;\n",
       "    }\n",
       "\n",
       "    .dataframe tbody tr th {\n",
       "        vertical-align: top;\n",
       "    }\n",
       "\n",
       "    .dataframe thead th {\n",
       "        text-align: right;\n",
       "    }\n",
       "</style>\n",
       "<table border=\"1\" class=\"dataframe\">\n",
       "  <thead>\n",
       "    <tr style=\"text-align: right;\">\n",
       "      <th></th>\n",
       "      <th></th>\n",
       "      <th>start_year</th>\n",
       "    </tr>\n",
       "    <tr>\n",
       "      <th>country</th>\n",
       "      <th>status</th>\n",
       "      <th></th>\n",
       "    </tr>\n",
       "  </thead>\n",
       "  <tbody>\n",
       "    <tr>\n",
       "      <th rowspan=\"2\" valign=\"top\">Afghanistan</th>\n",
       "      <th>announced</th>\n",
       "      <td>2025.0</td>\n",
       "    </tr>\n",
       "    <tr>\n",
       "      <th>development</th>\n",
       "      <td>2022.0</td>\n",
       "    </tr>\n",
       "    <tr>\n",
       "      <th>Albania</th>\n",
       "      <th>development</th>\n",
       "      <td>2022.5</td>\n",
       "    </tr>\n",
       "    <tr>\n",
       "      <th rowspan=\"2\" valign=\"top\">Algeria</th>\n",
       "      <th>announced</th>\n",
       "      <td>2023.0</td>\n",
       "    </tr>\n",
       "    <tr>\n",
       "      <th>operating</th>\n",
       "      <td>2016.0</td>\n",
       "    </tr>\n",
       "    <tr>\n",
       "      <th>...</th>\n",
       "      <th>...</th>\n",
       "      <td>...</td>\n",
       "    </tr>\n",
       "    <tr>\n",
       "      <th rowspan=\"2\" valign=\"top\">Vietnam</th>\n",
       "      <th>development</th>\n",
       "      <td>2022.5</td>\n",
       "    </tr>\n",
       "    <tr>\n",
       "      <th>operating</th>\n",
       "      <td>2019.0</td>\n",
       "    </tr>\n",
       "    <tr>\n",
       "      <th>Western Sahara</th>\n",
       "      <th>operating</th>\n",
       "      <td>2018.0</td>\n",
       "    </tr>\n",
       "    <tr>\n",
       "      <th>Zambia</th>\n",
       "      <th>operating</th>\n",
       "      <td>2019.0</td>\n",
       "    </tr>\n",
       "    <tr>\n",
       "      <th>Zimbabwe</th>\n",
       "      <th>operating</th>\n",
       "      <td>2019.0</td>\n",
       "    </tr>\n",
       "  </tbody>\n",
       "</table>\n",
       "<p>240 rows × 1 columns</p>\n",
       "</div>"
      ],
      "text/plain": [
       "                            start_year\n",
       "country        status                 \n",
       "Afghanistan    announced        2025.0\n",
       "               development      2022.0\n",
       "Albania        development      2022.5\n",
       "Algeria        announced        2023.0\n",
       "               operating        2016.0\n",
       "...                                ...\n",
       "Vietnam        development      2022.5\n",
       "               operating        2019.0\n",
       "Western Sahara operating        2018.0\n",
       "Zambia         operating        2019.0\n",
       "Zimbabwe       operating        2019.0\n",
       "\n",
       "[240 rows x 1 columns]"
      ]
     },
     "execution_count": 20,
     "metadata": {},
     "output_type": "execute_result"
    }
   ],
   "source": [
    "median_start_year = df.pivot_table(\n",
    "    index = ['country', 'status'],\n",
    "    values = 'start_year',\n",
    "    aggfunc = 'median'\n",
    ")\n",
    "\n",
    "median_start_year"
   ]
  },
  {
   "cell_type": "markdown",
   "id": "2185a2af",
   "metadata": {},
   "source": [
    "I will fill the null values in `start_year` using the median start year based off `country` and `status`. This gives me solid estimates given establised timelines in the various localities."
   ]
  },
  {
   "cell_type": "code",
   "execution_count": 21,
   "id": "382d8f60",
   "metadata": {},
   "outputs": [],
   "source": [
    "# creating a loop to fill the null values in `start_year`\n",
    "\n",
    "def avg_start_year(row):\n",
    "    \n",
    "    country = row['country']\n",
    "    status = row['status']\n",
    "    try:\n",
    "        avg_start_year = df[(df['status'] == status) & (df['country'] == country) & ~(df['start_year'].isna())]['start_year'].median()\n",
    "        return avg_start_year\n",
    "    except:\n",
    "        return"
   ]
  },
  {
   "cell_type": "code",
   "execution_count": 22,
   "id": "6a01c87f",
   "metadata": {},
   "outputs": [],
   "source": [
    "df.loc[df['start_year'].isna(), 'start_year'] = df[df['start_year'].isna()].apply(avg_start_year, axis = 1)"
   ]
  },
  {
   "cell_type": "code",
   "execution_count": 23,
   "id": "dc05e51e",
   "metadata": {
    "scrolled": false
   },
   "outputs": [
    {
     "data": {
      "text/plain": [
       "2058.0    3\n",
       "2047.0    1\n",
       "2051.0    1\n",
       "Name: retired_year, dtype: int64"
      ]
     },
     "execution_count": 23,
     "metadata": {},
     "output_type": "execute_result"
    }
   ],
   "source": [
    "df['retired_year'].value_counts()"
   ]
  },
  {
   "cell_type": "markdown",
   "id": "5db1fcc0",
   "metadata": {},
   "source": [
    "#### Notes\n",
    "\n",
    "We can see here that the 5 solar farms with data in the `retired_year` column are not actully currently retired, they just have projected end dates. The closest of these dates in 2047, 25 years from now. Because of this I will remove this column from my dataframe. "
   ]
  },
  {
   "cell_type": "code",
   "execution_count": 24,
   "id": "f3fb5c80",
   "metadata": {
    "scrolled": false
   },
   "outputs": [
    {
     "name": "stdout",
     "output_type": "stream",
     "text": [
      "<class 'pandas.core.frame.DataFrame'>\n",
      "RangeIndex: 9331 entries, 0 to 9330\n",
      "Data columns (total 20 columns):\n",
      " #   Column             Non-Null Count  Dtype   \n",
      "---  ------             --------------  -----   \n",
      " 0   country            9331 non-null   object  \n",
      " 1   project_name       9331 non-null   object  \n",
      " 2   phase_name         3981 non-null   object  \n",
      " 3   capacity_mw        9331 non-null   int64   \n",
      " 4   capacity_rating    9331 non-null   object  \n",
      " 5   status             9331 non-null   category\n",
      " 6   start_year         8452 non-null   float64 \n",
      " 7   retired_year       5 non-null      float64 \n",
      " 8   operator           6034 non-null   object  \n",
      " 9   owner              8491 non-null   object  \n",
      " 10  latitude           9331 non-null   float64 \n",
      " 11  longitude          9331 non-null   float64 \n",
      " 12  location_accuracy  9331 non-null   category\n",
      " 13  city               4909 non-null   object  \n",
      " 14  local_area         6124 non-null   object  \n",
      " 15  major_area         5411 non-null   object  \n",
      " 16  state_or_province  8684 non-null   object  \n",
      " 17  region             9331 non-null   category\n",
      " 18  gem_loc_id         9331 non-null   object  \n",
      " 19  gem_phase_id       9331 non-null   object  \n",
      "dtypes: category(3), float64(4), int64(1), object(12)\n",
      "memory usage: 1.2+ MB\n"
     ]
    }
   ],
   "source": [
    "df.info()"
   ]
  },
  {
   "cell_type": "markdown",
   "id": "ff2cb8bd",
   "metadata": {},
   "source": [
    "The `avg_start_year` function filled the majority of null values in `start_year`. I will drop the remaining rows with null values as these cannot be filled with available data. "
   ]
  },
  {
   "cell_type": "code",
   "execution_count": 25,
   "id": "0d150fa3",
   "metadata": {},
   "outputs": [],
   "source": [
    "df.drop(['retired_year'] ,axis = 1, inplace = True)"
   ]
  },
  {
   "cell_type": "code",
   "execution_count": 26,
   "id": "cced53a1",
   "metadata": {},
   "outputs": [],
   "source": [
    "df.dropna(inplace=True, subset=['start_year'])"
   ]
  },
  {
   "cell_type": "code",
   "execution_count": 27,
   "id": "d584ac13",
   "metadata": {
    "scrolled": false
   },
   "outputs": [
    {
     "name": "stdout",
     "output_type": "stream",
     "text": [
      "<class 'pandas.core.frame.DataFrame'>\n",
      "Int64Index: 8452 entries, 0 to 9330\n",
      "Data columns (total 19 columns):\n",
      " #   Column             Non-Null Count  Dtype   \n",
      "---  ------             --------------  -----   \n",
      " 0   country            8452 non-null   object  \n",
      " 1   project_name       8452 non-null   object  \n",
      " 2   phase_name         3769 non-null   object  \n",
      " 3   capacity_mw        8452 non-null   int64   \n",
      " 4   capacity_rating    8452 non-null   object  \n",
      " 5   status             8452 non-null   category\n",
      " 6   start_year         8452 non-null   float64 \n",
      " 7   operator           5820 non-null   object  \n",
      " 8   owner              7754 non-null   object  \n",
      " 9   latitude           8452 non-null   float64 \n",
      " 10  longitude          8452 non-null   float64 \n",
      " 11  location_accuracy  8452 non-null   category\n",
      " 12  city               4516 non-null   object  \n",
      " 13  local_area         5749 non-null   object  \n",
      " 14  major_area         5127 non-null   object  \n",
      " 15  state_or_province  7989 non-null   object  \n",
      " 16  region             8452 non-null   category\n",
      " 17  gem_loc_id         8452 non-null   object  \n",
      " 18  gem_phase_id       8452 non-null   object  \n",
      "dtypes: category(3), float64(3), int64(1), object(12)\n",
      "memory usage: 1.1+ MB\n"
     ]
    }
   ],
   "source": [
    "df.info()"
   ]
  },
  {
   "cell_type": "code",
   "execution_count": 28,
   "id": "085fc176",
   "metadata": {
    "scrolled": false
   },
   "outputs": [
    {
     "data": {
      "text/html": [
       "<div>\n",
       "<style scoped>\n",
       "    .dataframe tbody tr th:only-of-type {\n",
       "        vertical-align: middle;\n",
       "    }\n",
       "\n",
       "    .dataframe tbody tr th {\n",
       "        vertical-align: top;\n",
       "    }\n",
       "\n",
       "    .dataframe thead th {\n",
       "        text-align: right;\n",
       "    }\n",
       "</style>\n",
       "<table border=\"1\" class=\"dataframe\">\n",
       "  <thead>\n",
       "    <tr style=\"text-align: right;\">\n",
       "      <th></th>\n",
       "      <th>country</th>\n",
       "      <th>project_name</th>\n",
       "      <th>phase_name</th>\n",
       "      <th>capacity_mw</th>\n",
       "      <th>capacity_rating</th>\n",
       "      <th>status</th>\n",
       "      <th>start_year</th>\n",
       "      <th>operator</th>\n",
       "      <th>owner</th>\n",
       "      <th>latitude</th>\n",
       "      <th>longitude</th>\n",
       "      <th>location_accuracy</th>\n",
       "      <th>city</th>\n",
       "      <th>local_area</th>\n",
       "      <th>major_area</th>\n",
       "      <th>state_or_province</th>\n",
       "      <th>region</th>\n",
       "      <th>gem_loc_id</th>\n",
       "      <th>gem_phase_id</th>\n",
       "    </tr>\n",
       "  </thead>\n",
       "  <tbody>\n",
       "    <tr>\n",
       "      <th>0</th>\n",
       "      <td>Algeria</td>\n",
       "      <td>Adrar Solar Plant</td>\n",
       "      <td>NaN</td>\n",
       "      <td>20</td>\n",
       "      <td>MWp/dc</td>\n",
       "      <td>operating</td>\n",
       "      <td>2015.0</td>\n",
       "      <td>Shariket Kahraba wa Taket Moutadjadida (SKTM)</td>\n",
       "      <td>Shariket Kahraba wa Taket Moutadjadida (SKTM)</td>\n",
       "      <td>27.9077</td>\n",
       "      <td>-0.3174</td>\n",
       "      <td>exact</td>\n",
       "      <td>Adrar</td>\n",
       "      <td>Adrar District</td>\n",
       "      <td>NaN</td>\n",
       "      <td>Adrar</td>\n",
       "      <td>Africa</td>\n",
       "      <td>L800008</td>\n",
       "      <td>G800008</td>\n",
       "    </tr>\n",
       "    <tr>\n",
       "      <th>1</th>\n",
       "      <td>Algeria</td>\n",
       "      <td>Ain Azel solar farm</td>\n",
       "      <td>NaN</td>\n",
       "      <td>20</td>\n",
       "      <td>unknown</td>\n",
       "      <td>operating</td>\n",
       "      <td>2016.0</td>\n",
       "      <td>NaN</td>\n",
       "      <td>Sonelgaz</td>\n",
       "      <td>36.1611</td>\n",
       "      <td>5.3321</td>\n",
       "      <td>approximate</td>\n",
       "      <td>Ain Azel</td>\n",
       "      <td>Ain Arnat</td>\n",
       "      <td>NaN</td>\n",
       "      <td>Sétif</td>\n",
       "      <td>Africa</td>\n",
       "      <td>L800010</td>\n",
       "      <td>G800010</td>\n",
       "    </tr>\n",
       "    <tr>\n",
       "      <th>2</th>\n",
       "      <td>Algeria</td>\n",
       "      <td>Ain El Ibel Solar</td>\n",
       "      <td>PV 1</td>\n",
       "      <td>20</td>\n",
       "      <td>unknown</td>\n",
       "      <td>operating</td>\n",
       "      <td>2016.0</td>\n",
       "      <td>Shariket Kahraba wa Taket Moutadjadida (SKTM)</td>\n",
       "      <td>Shariket Kahraba wa Taket Moutadjadida (SKTM)</td>\n",
       "      <td>34.3447</td>\n",
       "      <td>3.1636</td>\n",
       "      <td>exact</td>\n",
       "      <td>Ain El Ibel</td>\n",
       "      <td>Aïn El Ibel District</td>\n",
       "      <td>NaN</td>\n",
       "      <td>Djelfa</td>\n",
       "      <td>Africa</td>\n",
       "      <td>L800012</td>\n",
       "      <td>G800012</td>\n",
       "    </tr>\n",
       "    <tr>\n",
       "      <th>3</th>\n",
       "      <td>Algeria</td>\n",
       "      <td>Ain El Ibel Solar</td>\n",
       "      <td>PV 2</td>\n",
       "      <td>33</td>\n",
       "      <td>unknown</td>\n",
       "      <td>operating</td>\n",
       "      <td>2017.0</td>\n",
       "      <td>Shariket Kahraba wa Taket Moutadjadida (SKTM)</td>\n",
       "      <td>Shariket Kahraba wa Taket Moutadjadida (SKTM)</td>\n",
       "      <td>34.3433</td>\n",
       "      <td>3.1696</td>\n",
       "      <td>exact</td>\n",
       "      <td>Ain El Ibel</td>\n",
       "      <td>Aïn El Ibel District</td>\n",
       "      <td>NaN</td>\n",
       "      <td>Djelfa</td>\n",
       "      <td>Africa</td>\n",
       "      <td>L800012</td>\n",
       "      <td>G800013</td>\n",
       "    </tr>\n",
       "    <tr>\n",
       "      <th>4</th>\n",
       "      <td>Algeria</td>\n",
       "      <td>Ain El Mehl Solar</td>\n",
       "      <td>NaN</td>\n",
       "      <td>20</td>\n",
       "      <td>unknown</td>\n",
       "      <td>operating</td>\n",
       "      <td>2017.0</td>\n",
       "      <td>Shariket Kahraba wa Taket Moutadjadida (SKTM)</td>\n",
       "      <td>Shariket Kahraba wa Taket Moutadjadida (SKTM)</td>\n",
       "      <td>34.8597</td>\n",
       "      <td>4.2026</td>\n",
       "      <td>exact</td>\n",
       "      <td>Ain El Mehl</td>\n",
       "      <td>Aïn El Melh District</td>\n",
       "      <td>NaN</td>\n",
       "      <td>M'Sila</td>\n",
       "      <td>Africa</td>\n",
       "      <td>L800013</td>\n",
       "      <td>G800014</td>\n",
       "    </tr>\n",
       "    <tr>\n",
       "      <th>...</th>\n",
       "      <td>...</td>\n",
       "      <td>...</td>\n",
       "      <td>...</td>\n",
       "      <td>...</td>\n",
       "      <td>...</td>\n",
       "      <td>...</td>\n",
       "      <td>...</td>\n",
       "      <td>...</td>\n",
       "      <td>...</td>\n",
       "      <td>...</td>\n",
       "      <td>...</td>\n",
       "      <td>...</td>\n",
       "      <td>...</td>\n",
       "      <td>...</td>\n",
       "      <td>...</td>\n",
       "      <td>...</td>\n",
       "      <td>...</td>\n",
       "      <td>...</td>\n",
       "      <td>...</td>\n",
       "    </tr>\n",
       "    <tr>\n",
       "      <th>9257</th>\n",
       "      <td>Colombia</td>\n",
       "      <td>Sabana De Torres solar farm</td>\n",
       "      <td>2</td>\n",
       "      <td>35</td>\n",
       "      <td>MWp/dc</td>\n",
       "      <td>development</td>\n",
       "      <td>2020.0</td>\n",
       "      <td>Colombia Solar Corporation International</td>\n",
       "      <td>NaN</td>\n",
       "      <td>7.3939</td>\n",
       "      <td>-73.4999</td>\n",
       "      <td>approximate</td>\n",
       "      <td>NaN</td>\n",
       "      <td>NaN</td>\n",
       "      <td>Sabana de Torres</td>\n",
       "      <td>Santander</td>\n",
       "      <td>South America</td>\n",
       "      <td>L807070</td>\n",
       "      <td>G808195</td>\n",
       "    </tr>\n",
       "    <tr>\n",
       "      <th>9266</th>\n",
       "      <td>Colombia</td>\n",
       "      <td>San Juan Solar Plant</td>\n",
       "      <td>1</td>\n",
       "      <td>100</td>\n",
       "      <td>unknown</td>\n",
       "      <td>development</td>\n",
       "      <td>2022.0</td>\n",
       "      <td>Colombia Solar Corporation International</td>\n",
       "      <td>Colombia Solar Corporation International</td>\n",
       "      <td>10.8148</td>\n",
       "      <td>-73.0845</td>\n",
       "      <td>approximate</td>\n",
       "      <td>NaN</td>\n",
       "      <td>NaN</td>\n",
       "      <td>San Juan del Cesar</td>\n",
       "      <td>La Guajira</td>\n",
       "      <td>South America</td>\n",
       "      <td>L807069</td>\n",
       "      <td>G808193</td>\n",
       "    </tr>\n",
       "    <tr>\n",
       "      <th>9267</th>\n",
       "      <td>Colombia</td>\n",
       "      <td>San Juan Solar Plant</td>\n",
       "      <td>2</td>\n",
       "      <td>100</td>\n",
       "      <td>unknown</td>\n",
       "      <td>development</td>\n",
       "      <td>2022.0</td>\n",
       "      <td>Colombia Solar Corporation International</td>\n",
       "      <td>Colombia Solar Corporation International</td>\n",
       "      <td>10.8148</td>\n",
       "      <td>-73.0845</td>\n",
       "      <td>approximate</td>\n",
       "      <td>NaN</td>\n",
       "      <td>NaN</td>\n",
       "      <td>San Juan del Cesar</td>\n",
       "      <td>La Guajira</td>\n",
       "      <td>South America</td>\n",
       "      <td>L807069</td>\n",
       "      <td>G808194</td>\n",
       "    </tr>\n",
       "    <tr>\n",
       "      <th>9275</th>\n",
       "      <td>Colombia</td>\n",
       "      <td>Summa Solar Project</td>\n",
       "      <td>2</td>\n",
       "      <td>200</td>\n",
       "      <td>MWp/dc</td>\n",
       "      <td>development</td>\n",
       "      <td>2023.0</td>\n",
       "      <td>Proelectrica</td>\n",
       "      <td>NaN</td>\n",
       "      <td>8.7974</td>\n",
       "      <td>-75.4522</td>\n",
       "      <td>approximate</td>\n",
       "      <td>NaN</td>\n",
       "      <td>NaN</td>\n",
       "      <td>Sahagún</td>\n",
       "      <td>Córdoba</td>\n",
       "      <td>South America</td>\n",
       "      <td>L807388</td>\n",
       "      <td>G808842</td>\n",
       "    </tr>\n",
       "    <tr>\n",
       "      <th>9328</th>\n",
       "      <td>Uruguay</td>\n",
       "      <td>Giacote PV Solar Project</td>\n",
       "      <td>Young Facility</td>\n",
       "      <td>20</td>\n",
       "      <td>MWp/dc</td>\n",
       "      <td>operating</td>\n",
       "      <td>2016.0</td>\n",
       "      <td>Sky Solar Holdings</td>\n",
       "      <td>Sky Solar Holdings</td>\n",
       "      <td>-32.6848</td>\n",
       "      <td>-57.6034</td>\n",
       "      <td>exact</td>\n",
       "      <td>NaN</td>\n",
       "      <td>NaN</td>\n",
       "      <td>Young</td>\n",
       "      <td>Río Negro</td>\n",
       "      <td>South America</td>\n",
       "      <td>L807433</td>\n",
       "      <td>G808943</td>\n",
       "    </tr>\n",
       "  </tbody>\n",
       "</table>\n",
       "<p>2823 rows × 19 columns</p>\n",
       "</div>"
      ],
      "text/plain": [
       "       country                 project_name      phase_name  capacity_mw  \\\n",
       "0      Algeria            Adrar Solar Plant             NaN           20   \n",
       "1      Algeria          Ain Azel solar farm             NaN           20   \n",
       "2      Algeria            Ain El Ibel Solar            PV 1           20   \n",
       "3      Algeria            Ain El Ibel Solar            PV 2           33   \n",
       "4      Algeria            Ain El Mehl Solar             NaN           20   \n",
       "...        ...                          ...             ...          ...   \n",
       "9257  Colombia  Sabana De Torres solar farm               2           35   \n",
       "9266  Colombia         San Juan Solar Plant               1          100   \n",
       "9267  Colombia         San Juan Solar Plant               2          100   \n",
       "9275  Colombia          Summa Solar Project               2          200   \n",
       "9328   Uruguay     Giacote PV Solar Project  Young Facility           20   \n",
       "\n",
       "     capacity_rating       status  start_year  \\\n",
       "0             MWp/dc    operating      2015.0   \n",
       "1            unknown    operating      2016.0   \n",
       "2            unknown    operating      2016.0   \n",
       "3            unknown    operating      2017.0   \n",
       "4            unknown    operating      2017.0   \n",
       "...              ...          ...         ...   \n",
       "9257          MWp/dc  development      2020.0   \n",
       "9266         unknown  development      2022.0   \n",
       "9267         unknown  development      2022.0   \n",
       "9275          MWp/dc  development      2023.0   \n",
       "9328          MWp/dc    operating      2016.0   \n",
       "\n",
       "                                           operator  \\\n",
       "0     Shariket Kahraba wa Taket Moutadjadida (SKTM)   \n",
       "1                                               NaN   \n",
       "2     Shariket Kahraba wa Taket Moutadjadida (SKTM)   \n",
       "3     Shariket Kahraba wa Taket Moutadjadida (SKTM)   \n",
       "4     Shariket Kahraba wa Taket Moutadjadida (SKTM)   \n",
       "...                                             ...   \n",
       "9257       Colombia Solar Corporation International   \n",
       "9266       Colombia Solar Corporation International   \n",
       "9267       Colombia Solar Corporation International   \n",
       "9275                                   Proelectrica   \n",
       "9328                             Sky Solar Holdings   \n",
       "\n",
       "                                              owner  latitude  longitude  \\\n",
       "0     Shariket Kahraba wa Taket Moutadjadida (SKTM)   27.9077    -0.3174   \n",
       "1                                          Sonelgaz   36.1611     5.3321   \n",
       "2     Shariket Kahraba wa Taket Moutadjadida (SKTM)   34.3447     3.1636   \n",
       "3     Shariket Kahraba wa Taket Moutadjadida (SKTM)   34.3433     3.1696   \n",
       "4     Shariket Kahraba wa Taket Moutadjadida (SKTM)   34.8597     4.2026   \n",
       "...                                             ...       ...        ...   \n",
       "9257                                            NaN    7.3939   -73.4999   \n",
       "9266       Colombia Solar Corporation International   10.8148   -73.0845   \n",
       "9267       Colombia Solar Corporation International   10.8148   -73.0845   \n",
       "9275                                            NaN    8.7974   -75.4522   \n",
       "9328                             Sky Solar Holdings  -32.6848   -57.6034   \n",
       "\n",
       "     location_accuracy         city            local_area          major_area  \\\n",
       "0                exact        Adrar        Adrar District                 NaN   \n",
       "1          approximate     Ain Azel             Ain Arnat                 NaN   \n",
       "2                exact  Ain El Ibel  Aïn El Ibel District                 NaN   \n",
       "3                exact  Ain El Ibel  Aïn El Ibel District                 NaN   \n",
       "4                exact  Ain El Mehl  Aïn El Melh District                 NaN   \n",
       "...                ...          ...                   ...                 ...   \n",
       "9257       approximate          NaN                   NaN    Sabana de Torres   \n",
       "9266       approximate          NaN                   NaN  San Juan del Cesar   \n",
       "9267       approximate          NaN                   NaN  San Juan del Cesar   \n",
       "9275       approximate          NaN                   NaN             Sahagún   \n",
       "9328             exact          NaN                   NaN               Young   \n",
       "\n",
       "     state_or_province         region gem_loc_id gem_phase_id  \n",
       "0                Adrar         Africa    L800008      G800008  \n",
       "1                Sétif         Africa    L800010      G800010  \n",
       "2               Djelfa         Africa    L800012      G800012  \n",
       "3               Djelfa         Africa    L800012      G800013  \n",
       "4               M'Sila         Africa    L800013      G800014  \n",
       "...                ...            ...        ...          ...  \n",
       "9257         Santander  South America    L807070      G808195  \n",
       "9266        La Guajira  South America    L807069      G808193  \n",
       "9267        La Guajira  South America    L807069      G808194  \n",
       "9275           Córdoba  South America    L807388      G808842  \n",
       "9328         Río Negro  South America    L807433      G808943  \n",
       "\n",
       "[2823 rows x 19 columns]"
      ]
     },
     "execution_count": 28,
     "metadata": {},
     "output_type": "execute_result"
    }
   ],
   "source": [
    "df.groupby(['phase_name','status', 'operator']).head(5)"
   ]
  },
  {
   "cell_type": "markdown",
   "id": "38dc7c81",
   "metadata": {},
   "source": [
    "#### Notes\n",
    "\n",
    "The `phase_name` column is both missing a great deal of data and appears to contain site-specific data. This means that the Null values cannot be filled with available data. From the chunk above we can see that each unique operator uses their own terminology, thus making it irrelevent to more holisitc analysis, particularly given that the `status` column has essentially the same information but applied consistently. For this reason I am electing to drop the `phase_name` column."
   ]
  },
  {
   "cell_type": "code",
   "execution_count": 29,
   "id": "3bca1600",
   "metadata": {},
   "outputs": [],
   "source": [
    "df.drop(['phase_name'], axis = 1, inplace = True)"
   ]
  },
  {
   "cell_type": "markdown",
   "id": "6e053ca4",
   "metadata": {},
   "source": [
    "#### Notes\n",
    "\n",
    "The next step is to address the Null values in `city`, `local_area`, `major_area`, and `state_or_province`. One option would be to 'waterfall' the data from `region` to `state_or_province` to `major_area` etc. This would fill the columns but because it is not accurate to the granular nature of the smaller localities it may create artificually inflated values. \n",
    "\n",
    "For this reason I will fill the null values with 'unknown'. Becuase I will primarily be focusing on `region` and `state_or_province` this should mitigate any analyitical problems. "
   ]
  },
  {
   "cell_type": "code",
   "execution_count": 30,
   "id": "39eebfd2",
   "metadata": {},
   "outputs": [],
   "source": [
    "df[['city', 'local_area', 'major_area', 'state_or_province']] = df[['city', 'local_area', 'major_area', 'state_or_province']].fillna('unknown')"
   ]
  },
  {
   "cell_type": "code",
   "execution_count": 31,
   "id": "6e1feb4c",
   "metadata": {},
   "outputs": [
    {
     "data": {
      "text/plain": [
       "0       2015\n",
       "1       2016\n",
       "2       2016\n",
       "3       2017\n",
       "4       2017\n",
       "        ... \n",
       "9326    2016\n",
       "9327    2017\n",
       "9328    2016\n",
       "9329    2015\n",
       "9330    2016\n",
       "Name: start_year, Length: 8452, dtype: int64"
      ]
     },
     "execution_count": 31,
     "metadata": {},
     "output_type": "execute_result"
    }
   ],
   "source": [
    "df['start_year'] = df['start_year'].astype(int)\n",
    "df['start_year']"
   ]
  },
  {
   "cell_type": "code",
   "execution_count": 32,
   "id": "d0a3a1f3",
   "metadata": {
    "scrolled": true
   },
   "outputs": [],
   "source": [
    "df['operator'] = df['operator'].fillna(df['owner'])"
   ]
  },
  {
   "cell_type": "code",
   "execution_count": 33,
   "id": "de411843",
   "metadata": {},
   "outputs": [],
   "source": [
    "df['owner'] = df['owner'].fillna(df['operator'])"
   ]
  },
  {
   "cell_type": "code",
   "execution_count": 34,
   "id": "3e7befd4",
   "metadata": {},
   "outputs": [],
   "source": [
    "df[['owner', 'operator']] = df[['owner', 'operator']].fillna('unknown')"
   ]
  },
  {
   "cell_type": "code",
   "execution_count": 35,
   "id": "f50ca54f",
   "metadata": {
    "scrolled": false
   },
   "outputs": [
    {
     "name": "stdout",
     "output_type": "stream",
     "text": [
      "<class 'pandas.core.frame.DataFrame'>\n",
      "Int64Index: 8452 entries, 0 to 9330\n",
      "Data columns (total 18 columns):\n",
      " #   Column             Non-Null Count  Dtype   \n",
      "---  ------             --------------  -----   \n",
      " 0   country            8452 non-null   object  \n",
      " 1   project_name       8452 non-null   object  \n",
      " 2   capacity_mw        8452 non-null   int64   \n",
      " 3   capacity_rating    8452 non-null   object  \n",
      " 4   status             8452 non-null   category\n",
      " 5   start_year         8452 non-null   int64   \n",
      " 6   operator           8452 non-null   object  \n",
      " 7   owner              8452 non-null   object  \n",
      " 8   latitude           8452 non-null   float64 \n",
      " 9   longitude          8452 non-null   float64 \n",
      " 10  location_accuracy  8452 non-null   category\n",
      " 11  city               8452 non-null   object  \n",
      " 12  local_area         8452 non-null   object  \n",
      " 13  major_area         8452 non-null   object  \n",
      " 14  state_or_province  8452 non-null   object  \n",
      " 15  region             8452 non-null   category\n",
      " 16  gem_loc_id         8452 non-null   object  \n",
      " 17  gem_phase_id       8452 non-null   object  \n",
      "dtypes: category(3), float64(2), int64(2), object(11)\n",
      "memory usage: 1.1+ MB\n"
     ]
    }
   ],
   "source": [
    "df.info()"
   ]
  },
  {
   "cell_type": "markdown",
   "id": "a2303628",
   "metadata": {},
   "source": [
    "### Data Prep & Preliminary EDA Conclusion\n",
    "\n",
    "I have now reached the point where my null values are either removed or filled, all datatypes are corrected and columns names are changed to snake_case. From here I can begin to generate my visualizations of my data in the exploratory data analysis section. \n",
    "\n",
    "I will be focusing my investigation into prime locations for solar, both from a longitudianl/latitudinal perspective and region-based persepctive. I am also interested in the increase of solar farms over time, including those still in development. "
   ]
  },
  {
   "cell_type": "markdown",
   "id": "71b148ac",
   "metadata": {},
   "source": [
    "## Exploratory Data Analysis & Visualizations"
   ]
  },
  {
   "cell_type": "code",
   "execution_count": 36,
   "id": "673aa7b7",
   "metadata": {
    "scrolled": false
   },
   "outputs": [
    {
     "data": {
      "image/png": "[encoded data removed]",
      "text/plain": [
       "<Figure size 1440x864 with 1 Axes>"
      ]
     },
     "metadata": {
      "needs_background": "light"
     },
     "output_type": "display_data"
    }
   ],
   "source": [
    "# solar farms over time\n",
    "\n",
    "solar_farm_time_pivot = df.pivot_table(\n",
    "    index = 'start_year',\n",
    "    columns = 'status',\n",
    "    values = 'project_name',\n",
    "    aggfunc = 'count'\n",
    ")\n",
    "\n",
    "fig1 = solar_farm_time_pivot.plot(kind = 'bar', figsize = (20,12), grid = False, width = 1.25)\n",
    "fig1.patch.set_facecolor('black')\n",
    "fig1.patch.set_alpha(1.0)\n",
    "plt.title('Solar Farm Development Over Time')\n",
    "plt.xlabel('Year', color = 'black')\n",
    "plt.ylabel('Total Farms', color = 'black')\n",
    "\n",
    "ax = plt.subplot(111)\n",
    "ax.patch.set_facecolor('black')\n",
    "ax.patch.set_alpha(1.0)\n",
    "\n",
    "ax.spines['bottom'].set_color('black')\n",
    "ax.spines['top'].set_color('black') \n",
    "ax.spines['right'].set_color('black')\n",
    "ax.spines['left'].set_color('black')\n",
    "\n",
    "ax.tick_params(axis='x', colors='black')\n",
    "ax.tick_params(axis='y', colors='black')\n",
    "\n",
    "ax.title.set_color('black')\n",
    "ax.tick_params(axis='x', colors='black')\n",
    "ax.tick_params(axis='y', colors='black')\n",
    "\n",
    "ax.title.set_color('black')"
   ]
  },
  {
   "cell_type": "markdown",
   "id": "1e99f7b8",
   "metadata": {},
   "source": [
    "Here we can see the promising future of global solar farms. Solar farms reaching operation had a sharp growth period between 2013 and 2017. The following several years showed more solar farms reaching operational status, but did represent a drop in quantity. Beginning in 2020 however we see a huge spike in solar farms in development, peaking in 2022. As our data looks to the future we see even more solar farms announced and in development, showing that solar is a massive growth industry that can be expected to produce a significant return on investment. \n"
   ]
  },
  {
   "cell_type": "code",
   "execution_count": 37,
   "id": "20437e80",
   "metadata": {
    "scrolled": false
   },
   "outputs": [
    {
     "data": {
      "image/png": "[encoded data removed]",
      "text/plain": [
       "<Figure size 2160x1440 with 2 Axes>"
      ]
     },
     "metadata": {
      "needs_background": "light"
     },
     "output_type": "display_data"
    }
   ],
   "source": [
    "df.plot(\n",
    "    x='longitude', \n",
    "    y='latitude', \n",
    "    kind='hexbin', \n",
    "    figsize = (30,20), \n",
    "    cmap = 'magma_r', \n",
    "    gridsize=25, \n",
    "    mincnt = 0, \n",
    "    sharex=False\n",
    ")\n",
    "plt.title('Solar Farms density by Coordinates', color = 'black')\n",
    "plt.xlabel('Latitude', color = 'black')\n",
    "plt.ylabel('Longitude', color = 'black')\n",
    "\n",
    "ax.spines['bottom'].set_color('black')\n",
    "ax.spines['top'].set_color('black') \n",
    "ax.spines['right'].set_color('black')\n",
    "ax.spines['left'].set_color('black')\n",
    "\n",
    "ax.tick_params(axis='x', colors='black')\n",
    "ax.tick_params(axis='y', colors='black')\n",
    "\n",
    "ax.title.set_color('black')\n",
    "ax.tick_params(axis='x', colors='black')\n",
    "ax.tick_params(axis='y', colors='black')\n"
   ]
  },
  {
   "cell_type": "markdown",
   "id": "1027d280",
   "metadata": {},
   "source": [
    "The graph below shows us the density of solar farms geographically based on longitude & latitude. Interestingly, by using this approach the data formed into a pseudo-world map, offering a clear vision of global solar. We can see here that solar is most highly concentrated in Asia, Europe, and the Western United States. Developing nations, many which would serve as great locations for solar energy production, are underutilized. With effective investments into the necessary infrastructure solar farms could help these underserved communities immensely. "
   ]
  },
  {
   "cell_type": "code",
   "execution_count": 38,
   "id": "204a33c5",
   "metadata": {
    "scrolled": false
   },
   "outputs": [
    {
     "data": {
      "image/png": "[encoded data removed]",
      "text/plain": [
       "<Figure size 864x504 with 1 Axes>"
      ]
     },
     "metadata": {
      "needs_background": "light"
     },
     "output_type": "display_data"
    }
   ],
   "source": [
    "solar_region = df.pivot_table(\n",
    "    index = 'region',\n",
    "    values = 'project_name',\n",
    "    aggfunc = 'count'\n",
    ")\n",
    "\n",
    "fig3 = solar_region.plot(kind = 'bar', figsize = (12,7), color = 'green', width = .15)\n",
    "fig3.patch.set_facecolor('black')\n",
    "fig3.patch.set_alpha(1.0)\n",
    "plt.title('Total Solar Farms by Region')\n",
    "plt.xlabel('Region', color = 'black')\n",
    "plt.ylabel('Total Farms', color = 'black')\n",
    "\n",
    "ax = plt.subplot(111)\n",
    "ax.patch.set_facecolor('black')\n",
    "ax.patch.set_alpha(1.0)\n",
    "\n",
    "ax.spines['bottom'].set_color('black')\n",
    "ax.spines['top'].set_color('black') \n",
    "ax.spines['right'].set_color('black')\n",
    "ax.spines['left'].set_color('black')\n",
    "\n",
    "ax.tick_params(axis='x', colors='black')\n",
    "ax.tick_params(axis='y', colors='black')\n",
    "\n",
    "ax.title.set_color('black')\n",
    "ax.tick_params(axis='x', colors='black')\n",
    "ax.tick_params(axis='y', colors='black')\n",
    "\n",
    "ax.title.set_color('black')"
   ]
  },
  {
   "cell_type": "markdown",
   "id": "50ad5f63",
   "metadata": {},
   "source": [
    "This bar chart tells an explicit story into which nations have best invested in solar energy. Leading the pack at nearly 4000 total solar farms is Asia. Following behind by a wide margin is North America, Europe, and South America. Developing nations in Africa, Central America and the Caribbean lag behind dramatically, and represent huge potential growth markets for solar farm investment. The Middle East also presents a potential market. Low solar power investment is to be expected given the area’s reliance on fossil fuels, but given the climate of the area is a prime location for solar farms. "
   ]
  },
  {
   "cell_type": "code",
   "execution_count": 39,
   "id": "d46b30c2",
   "metadata": {},
   "outputs": [
    {
     "data": {
      "image/png": "[encoded data removed]",
      "text/plain": [
       "<Figure size 2160x1080 with 1 Axes>"
      ]
     },
     "metadata": {
      "needs_background": "light"
     },
     "output_type": "display_data"
    }
   ],
   "source": [
    "output_pivot = df.pivot_table(\n",
    "    index = 'country',\n",
    "    values = 'capacity_mw',\n",
    "    aggfunc = 'sum'\n",
    ")\n",
    "\n",
    "fig4 = output_pivot.plot(kind = 'bar', figsize = (30,15), color = 'white', width = .75)\n",
    "fig4.patch.set_facecolor('black')\n",
    "fig4.patch.set_alpha(1.0)\n",
    "plt.title('Total MW Output by Country')\n",
    "plt.xlabel('Country', color = 'black')\n",
    "plt.ylabel('MW Output', color = 'black')\n",
    "\n",
    "ax = plt.subplot(111)\n",
    "ax.patch.set_facecolor('black')\n",
    "ax.patch.set_alpha(1.0)\n",
    "\n",
    "ax.spines['bottom'].set_color('black')\n",
    "ax.spines['top'].set_color('black') \n",
    "ax.spines['right'].set_color('black')\n",
    "ax.spines['left'].set_color('black')\n",
    "\n",
    "ax.tick_params(axis='x', colors='black')\n",
    "ax.tick_params(axis='y', colors='black')\n",
    "\n",
    "ax.title.set_color('black')\n",
    "ax.tick_params(axis='x', colors='black')\n",
    "ax.tick_params(axis='y', colors='black')\n",
    "\n",
    "ax.title.set_color('black')"
   ]
  },
  {
   "cell_type": "markdown",
   "id": "c075bf1f",
   "metadata": {},
   "source": [
    "The story told by this graph is illuminating given the context of the previous three graphs. Here we can truly see prime areas for solar farms based on their MegaWatt outputs. North American and China have the same MW output despite the Asia region having double the solar farms. Even with the high output of India we can see that North America produces more energy per solar farm than China. Additionally, despite the small number of solar farms the Oceania region contains, Australia’s MW output rivals that of India. This data can help us identify both areas that are prime for solar farm investment and will produce the greatest return on that investment. \n"
   ]
  },
  {
   "cell_type": "markdown",
   "id": "58c66709",
   "metadata": {},
   "source": [
    "### Exporting Files\n",
    "\n",
    "Now that my data visualizations and analysis are completed I need to export two datasets for my partner to imput into our landing page."
   ]
  },
  {
   "cell_type": "code",
   "execution_count": 40,
   "id": "16f61ec6",
   "metadata": {
    "scrolled": false
   },
   "outputs": [
    {
     "data": {
      "text/html": [
       "<div>\n",
       "<style scoped>\n",
       "    .dataframe tbody tr th:only-of-type {\n",
       "        vertical-align: middle;\n",
       "    }\n",
       "\n",
       "    .dataframe tbody tr th {\n",
       "        vertical-align: top;\n",
       "    }\n",
       "\n",
       "    .dataframe thead th {\n",
       "        text-align: right;\n",
       "    }\n",
       "</style>\n",
       "<table border=\"1\" class=\"dataframe\">\n",
       "  <thead>\n",
       "    <tr style=\"text-align: right;\">\n",
       "      <th></th>\n",
       "      <th>country</th>\n",
       "      <th>capacity_mw</th>\n",
       "    </tr>\n",
       "  </thead>\n",
       "  <tbody>\n",
       "    <tr>\n",
       "      <th>0</th>\n",
       "      <td>Afghanistan</td>\n",
       "      <td>3135</td>\n",
       "    </tr>\n",
       "    <tr>\n",
       "      <th>1</th>\n",
       "      <td>Albania</td>\n",
       "      <td>390</td>\n",
       "    </tr>\n",
       "    <tr>\n",
       "      <th>2</th>\n",
       "      <td>Algeria</td>\n",
       "      <td>4455</td>\n",
       "    </tr>\n",
       "    <tr>\n",
       "      <th>3</th>\n",
       "      <td>Argentina</td>\n",
       "      <td>1001</td>\n",
       "    </tr>\n",
       "    <tr>\n",
       "      <th>4</th>\n",
       "      <td>Armenia</td>\n",
       "      <td>200</td>\n",
       "    </tr>\n",
       "  </tbody>\n",
       "</table>\n",
       "</div>"
      ],
      "text/plain": [
       "       country  capacity_mw\n",
       "0  Afghanistan         3135\n",
       "1      Albania          390\n",
       "2      Algeria         4455\n",
       "3    Argentina         1001\n",
       "4      Armenia          200"
      ]
     },
     "execution_count": 40,
     "metadata": {},
     "output_type": "execute_result"
    }
   ],
   "source": [
    "output_pivot_2 = df.pivot_table(\n",
    "    index = 'country',\n",
    "    values = 'capacity_mw',\n",
    "    aggfunc = 'sum'\n",
    ").reset_index()\n",
    "\n",
    "output_pivot_2.head()"
   ]
  },
  {
   "cell_type": "code",
   "execution_count": 41,
   "id": "83baa3eb",
   "metadata": {},
   "outputs": [],
   "source": [
    "output_pivot_2.to_csv(index = False)\n",
    "'ncountry\\ncapacity_mw'\n",
    "compression_opts = dict(method='zip', archive_name='country_output.csv')  \n",
    "\n",
    "output_pivot_2.to_csv('country_output.zip', index=False, compression=compression_opts)  "
   ]
  },
  {
   "cell_type": "code",
   "execution_count": 42,
   "id": "c9f4f87f",
   "metadata": {},
   "outputs": [],
   "source": [
    "from pathlib import Path  \n",
    "filepath = Path('CodeBridge/out.csv')  \n",
    "filepath.parent.mkdir(parents=True, exist_ok=True)  \n",
    "output_pivot.to_csv(filepath) "
   ]
  },
  {
   "cell_type": "code",
   "execution_count": 43,
   "id": "96a2386d",
   "metadata": {
    "scrolled": true
   },
   "outputs": [
    {
     "data": {
      "text/html": [
       "<div>\n",
       "<style scoped>\n",
       "    .dataframe tbody tr th:only-of-type {\n",
       "        vertical-align: middle;\n",
       "    }\n",
       "\n",
       "    .dataframe tbody tr th {\n",
       "        vertical-align: top;\n",
       "    }\n",
       "\n",
       "    .dataframe thead th {\n",
       "        text-align: right;\n",
       "    }\n",
       "</style>\n",
       "<table border=\"1\" class=\"dataframe\">\n",
       "  <thead>\n",
       "    <tr style=\"text-align: right;\">\n",
       "      <th></th>\n",
       "      <th>country</th>\n",
       "      <th>project_name</th>\n",
       "    </tr>\n",
       "  </thead>\n",
       "  <tbody>\n",
       "    <tr>\n",
       "      <th>0</th>\n",
       "      <td>Afghanistan</td>\n",
       "      <td>5</td>\n",
       "    </tr>\n",
       "    <tr>\n",
       "      <th>1</th>\n",
       "      <td>Albania</td>\n",
       "      <td>5</td>\n",
       "    </tr>\n",
       "    <tr>\n",
       "      <th>2</th>\n",
       "      <td>Algeria</td>\n",
       "      <td>22</td>\n",
       "    </tr>\n",
       "    <tr>\n",
       "      <th>3</th>\n",
       "      <td>Argentina</td>\n",
       "      <td>13</td>\n",
       "    </tr>\n",
       "    <tr>\n",
       "      <th>4</th>\n",
       "      <td>Armenia</td>\n",
       "      <td>1</td>\n",
       "    </tr>\n",
       "  </tbody>\n",
       "</table>\n",
       "</div>"
      ],
      "text/plain": [
       "       country  project_name\n",
       "0  Afghanistan             5\n",
       "1      Albania             5\n",
       "2      Algeria            22\n",
       "3    Argentina            13\n",
       "4      Armenia             1"
      ]
     },
     "execution_count": 43,
     "metadata": {},
     "output_type": "execute_result"
    }
   ],
   "source": [
    "farms_by_country = df.pivot_table(\n",
    "    index = 'country',\n",
    "    values = 'project_name',\n",
    "    aggfunc = 'count'\n",
    ").reset_index()\n",
    "\n",
    "farms_by_country.head()"
   ]
  },
  {
   "cell_type": "code",
   "execution_count": 44,
   "id": "0f44c243",
   "metadata": {},
   "outputs": [],
   "source": [
    "farms_by_country.to_csv(index = False)\n",
    "'ncountry\\nproject_name'\n",
    "compression_opts = dict(method='zip', archive_name='farms_by_country.csv')  \n",
    "\n",
    "farms_by_country.to_csv('farms_by_country.zip', index=False, compression=compression_opts)  \n",
    "\n",
    "from pathlib import Path  \n",
    "filepath = Path('CodeBridge/out.csv')  \n",
    "filepath.parent.mkdir(parents=True, exist_ok=True)  \n",
    "output_pivot.to_csv(filepath) "
   ]
  },
  {
   "cell_type": "markdown",
   "id": "2bedf8bb",
   "metadata": {},
   "source": [
    "## Conclusion \n",
    "\n",
    "The analysis conducted in this project represents only the entry point into the potential for global solar expansion. We can see from the above data that nations in the Global South are severely underdeveloped for solar energy production and may be prime areas for investment in solar infrastructure. Using Australia as a climate example we can see that even with relatively few solar farms the energy production in these areas is dramatically higher than that of colder climates. "
   ]
  }
 ],
 "metadata": {
  "kernelspec": {
   "display_name": "Python 3 (ipykernel)",
   "language": "python",
   "name": "python3"
  },
  "language_info": {
   "codemirror_mode": {
    "name": "ipython",
    "version": 3
   },
   "file_extension": ".py",
   "mimetype": "text/x-python",
   "name": "python",
   "nbconvert_exporter": "python",
   "pygments_lexer": "ipython3",
   "version": "3.9.7"
  }
 },
 "nbformat": 4,
 "nbformat_minor": 5
}
